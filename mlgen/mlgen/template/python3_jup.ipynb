{
 "cells": [
 {
   "cell_type": "code",
   "execution_count": null,
   "metadata": {
    "type": "importsinstall"
   },
   "outputs": [],
   "source": [
    
   ]
  },
  {
   "cell_type": "code",
   "execution_count": null,
   "metadata": {
    "type": "imports"
   },
   "outputs": [],
   "source": [
    
   ]
  },
  {
   "cell_type": "code",
   "execution_count": null,
   "metadata": {
    "type": "data"
   },
   "outputs": [],
   "source": [
      
   ]
  },
  {
   "cell_type": "code",
   "execution_count": null,
   "metadata": {
    "type": "mlcode"
   },
   "outputs": [],
   "source": [
      
   ]
  },
  {
   "cell_type": "code",
   "execution_count": null,
   "metadata": {
    "type": "compilecode"
   },
   "outputs": [],
   "source": [
      
   ]
  },
  {
   "cell_type": "code",
   "execution_count": null,
   "metadata": {
    "type": "checkpointcode"
   },
   "outputs": [],
   "source": [
      
   ]
  },
  {
   "cell_type": "code",
   "execution_count": null,
   "metadata": {
    "type": "savecode"
   },
   "outputs": [],
   "source": [
      
   ]
  }
 ],
 "metadata": {
  "kernelspec": {
   "display_name": "Python 3",
   "language": "python",
   "name": "python3"
  }
 },
 "nbformat": 4,
 "nbformat_minor": 2
}
